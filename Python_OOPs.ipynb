{
  "nbformat": 4,
  "nbformat_minor": 0,
  "metadata": {
    "colab": {
      "provenance": []
    },
    "kernelspec": {
      "name": "python3",
      "display_name": "Python 3"
    },
    "language_info": {
      "name": "python"
    }
  },
  "cells": [
    {
      "cell_type": "markdown",
      "source": [
        "![image.png](data:image/png;base64,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)"
      ],
      "metadata": {
        "id": "RezcVTWe1T7D"
      }
    },
    {
      "cell_type": "markdown",
      "source": [
        "Ans: Object-Oriented Programming (OOP) is a programming paradigm based on the concept of 'objects', which can contain data in the form of fields and code in the form of methods."
      ],
      "metadata": {
        "id": "O9HfrD2A1Wpu"
      }
    },
    {
      "cell_type": "markdown",
      "source": [
        "2.  What is a class in OOP ?\n",
        "A class in OOP is like a blueprint for creating objects. It defines a set of attributes and methods that the created objects will have. For example, a 'Car' class might include attributes like color and brand, and methods like drive() or stop()."
      ],
      "metadata": {
        "id": "AY0OfzTa2QoY"
      }
    },
    {
      "cell_type": "markdown",
      "source": [
        "3. What is an object in OOP?\n",
        "An object is an instance of a class. If a class is a template, an object is the actual thing created based on that template. For example, if Car is the class, then your red Honda Civic is an object of that class."
      ],
      "metadata": {
        "id": "TVC2U2z_23e9"
      }
    },
    {
      "cell_type": "markdown",
      "source": [
        "4. What is the difference between abstraction and encapsulation ?\n",
        "\n",
        "- **Abstraction** is the concept of hiding complex implementation details and showing only the essential features to the user.\n",
        "- **Encapsulation** is the process of bundling data (variables) and methods that operate on the data into a single unit or class and restricting access to some of the object’s components."
      ],
      "metadata": {
        "id": "AakapVeL2_FX"
      }
    },
    {
      "cell_type": "markdown",
      "source": [
        "5. What are dunder methods in Python ?\n",
        "Dunder methods (short for 'double underscore') are special methods in Python that start and end with double underscores, like `__init__`, `__str__`, and `__len__`. These methods are used to define the behavior of objects for built-in operations."
      ],
      "metadata": {
        "id": "d8JKWFQk3HAp"
      }
    },
    {
      "cell_type": "markdown",
      "source": [
        "6. Explain the concept of inheritance in OOP.\n",
        "\n",
        "Inheritance allows a class (child class) to inherit attributes and methods from another class (parent class). It promotes code reusability. For example, a 'Dog' class can inherit from an 'Animal' class and gain access to its methods."
      ],
      "metadata": {
        "id": "YE_yodUR3QiG"
      }
    },
    {
      "cell_type": "markdown",
      "source": [
        "7. What is polymorphism in OOP ?\n",
        "\n",
        "Polymorphism means the ability to take many forms. In OOP, it allows methods to do different things based on the object calling them. For example, the same method `speak()` might produce different outputs depending on whether it's called from a Dog or a Cat object."
      ],
      "metadata": {
        "id": "GxjA12Qx3XYN"
      }
    },
    {
      "cell_type": "markdown",
      "source": [
        "8.  How is encapsulation achieved in Python ?\n",
        "\n",
        "Encapsulation is achieved in Python by using access modifiers. For example, prefixing an attribute with a single underscore `_` or double underscore `__` makes it protected or private, respectively."
      ],
      "metadata": {
        "id": "lR19exdx3ku9"
      }
    },
    {
      "cell_type": "markdown",
      "source": [
        "9. What is a constructor in Python ?\n",
        "A constructor in Python is a special method called `__init__` that is automatically invoked when a new object is created. It’s used to initialize the object’s attributes."
      ],
      "metadata": {
        "id": "mTynNPrb3p7o"
      }
    },
    {
      "cell_type": "markdown",
      "source": [
        "10. What are class and static methods in Python ?\n",
        "\n",
        "- **Class methods** use the `@classmethod` decorator and take `cls` as the first parameter. They can access and modify class state.\n",
        "- **Static methods** use the `@staticmethod` decorator and don’t access class or instance variables. They behave like regular functions inside a class."
      ],
      "metadata": {
        "id": "6qjAnV-D3val"
      }
    },
    {
      "cell_type": "markdown",
      "source": [
        "11. ### What is method overloading in Python\n",
        "Python doesn’t support traditional method overloading like some other languages, but you can use default arguments or variable-length arguments to simulate it."
      ],
      "metadata": {
        "id": "Du68bLmz34aM"
      }
    },
    {
      "cell_type": "markdown",
      "source": [
        "12. ### What is a property decorator in Python ?\n",
        "\n",
        "The property  decorator is used to make a method act like an attribute. It allows you to define a method that can be accessed like an attribute while still encapsulating logic."
      ],
      "metadata": {
        "id": "gSH2EsIU38zv"
      }
    },
    {
      "cell_type": "markdown",
      "source": [
        "13. ### Why is polymorphism important in OOP\n",
        "Polymorphism allows objects of different classes to be treated as objects of a common superclass. It enables flexibility and integration of various object types in a clean and intuitive way."
      ],
      "metadata": {
        "id": "CmPahjXX4GLV"
      }
    },
    {
      "cell_type": "markdown",
      "source": [
        "14. What is an abstract class in Python ?\n",
        "\n",
        "An abstract class is a class that cannot be instantiated and often includes one or more abstract methods that must be implemented by subclasses. It's defined using the `abc` module."
      ],
      "metadata": {
        "id": "dHyPNnT54Jhx"
      }
    },
    {
      "cell_type": "markdown",
      "source": [
        "15.  What are the advantages of OOP ?\n",
        "\n",
        "- Code reusability through inheritance\n",
        "- Code organization through encapsulation\n",
        "- Easier maintenance\n",
        "- Improved scalability\n",
        "- Support for real-world modeling"
      ],
      "metadata": {
        "id": "_qnAfGND4RMn"
      }
    },
    {
      "cell_type": "markdown",
      "source": [
        "16. What is the difference between a class variable and an instance variable\n",
        "- A **class variable** is shared across all instances of a class.\n",
        "- An **instance variable** is unique to each instance."
      ],
      "metadata": {
        "id": "OVyaBjYu4Wv_"
      }
    },
    {
      "cell_type": "markdown",
      "source": [
        "17. What is multiple inheritance in Python ?\n",
        "\n",
        "Multiple inheritance allows a class to inherit from more than one parent class. Python supports this, but it can be complex due to the method resolution order (MRO)."
      ],
      "metadata": {
        "id": "qQENw7y74atq"
      }
    },
    {
      "cell_type": "markdown",
      "source": [
        "18. ### Explain the purpose of `__str__` and `__repr__` methods in Python\n",
        "\n",
        "- `__str__` is used to return a user-friendly string representation of an object.\n",
        "- `__repr__` is used to return an unambiguous representation, useful for debugging."
      ],
      "metadata": {
        "id": "1ovZ4wDG4NV3"
      }
    },
    {
      "cell_type": "markdown",
      "source": [
        "19.  What is the significance of the ‘super()’ function in Python ?\n",
        "\n",
        "\n",
        "'super()' is used to call a method from a parent class. It’s commonly used in constructors to ensure the parent class is initialized."
      ],
      "metadata": {
        "id": "wSRmJlrT4rzr"
      }
    },
    {
      "cell_type": "markdown",
      "source": [
        "20. ### What is the significance of the `__del__` method in Python ?\n",
        "\n",
        "`__del__` is a destructor method called when an object is deleted or garbage collected."
      ],
      "metadata": {
        "id": "Al6UxgS542J8"
      }
    },
    {
      "cell_type": "markdown",
      "source": [
        "21.  What is the difference between @staticmethod and @classmethod in Python\n",
        "\n",
        "\n",
        "- @staticmethod does not take any implicit first argument (no self or cls).\n",
        "- @classmethod takes cls as the first argument and can access class variables."
      ],
      "metadata": {
        "id": "Akw277Xi5Cdc"
      }
    },
    {
      "cell_type": "markdown",
      "source": [
        "22. ### How does polymorphism work in Python with inheritance ?\n",
        "\n",
        "In Python, if a parent class has a method and a child class overrides it, we can still call the method using the parent class reference. Python will automatically call the child class’s method due to polymorphism."
      ],
      "metadata": {
        "id": "f5Vw4H4k5PCs"
      }
    },
    {
      "cell_type": "markdown",
      "source": [
        "23. ### What is method chaining in Python OOP ?\n",
        "\n",
        "Method chaining is a technique where multiple methods are called on the same object in a single line. This is usually done by returning `self` from each method."
      ],
      "metadata": {
        "id": "5Ezvshyd5S_a"
      }
    },
    {
      "cell_type": "markdown",
      "source": [
        "24.  What is the purpose of the __call__ method in Python?\n",
        "\n",
        "The __call__ method allows an instance of a class to be called like a regular function.\n"
      ],
      "metadata": {
        "id": "KHas9Vvt5ZOo"
      }
    },
    {
      "cell_type": "markdown",
      "source": [
        "**Practical Questions\n",
        "**"
      ],
      "metadata": {
        "id": "r46NFbw55o9x"
      }
    },
    {
      "cell_type": "code",
      "source": [
        "#1. . Create a parent class Animal with a method speak() that prints a generic message. Create a child class Dog that overrides the speak() method to print \"Bark!\"\n",
        "\n",
        "# Parent class\n",
        "class Animal:\n",
        "    def speak(self):\n",
        "        print(\"The animal makes a sound.\")\n",
        "\n",
        "# Child class\n",
        "class Dog(Animal):\n",
        "    def speak(self):\n",
        "        print(\"Bark!\")\n",
        "\n",
        "# Example usage\n",
        "my_dog = Dog()\n",
        "my_dog.speak()  # Output: Bark!\n"
      ],
      "metadata": {
        "colab": {
          "base_uri": "https://localhost:8080/"
        },
        "id": "X9wQCAeC5uG2",
        "outputId": "860b3e9c-5467-440a-a0f4-d037ae02ffeb"
      },
      "execution_count": null,
      "outputs": [
        {
          "output_type": "stream",
          "name": "stdout",
          "text": [
            "Bark!\n"
          ]
        }
      ]
    },
    {
      "cell_type": "code",
      "source": [
        "#2.  Write a program to create an abstract class Shape with a method area(). Derive classes Circle and Rectangle from it and implement the area() method in both.\n",
        "from abc import ABC, abstractmethod\n",
        "\n",
        "# Abstract class\n",
        "class Shape(ABC):\n",
        "    @abstractmethod\n",
        "    def area(self):\n",
        "        pass\n",
        "\n",
        "# Circle class derived from Shape\n",
        "class Circle(Shape):\n",
        "    def __init__(self, radius):\n",
        "        self.radius = radius\n",
        "\n",
        "    def area(self):\n",
        "        return 3.14 * self.radius ** 2\n",
        "\n",
        "# Rectangle class derived from Shape\n",
        "class Rectangle(Shape):\n",
        "    def __init__(self, width, height):\n",
        "        self.width = width\n",
        "        self.height = height\n",
        "\n",
        "    def area(self):\n",
        "        return self.width * self.height\n",
        "\n",
        "# Example usage\n",
        "circle = Circle(7)\n",
        "rectangle = Rectangle(5, 10)\n",
        "\n",
        "print(f\"Area of the circle: {circle.area()}\")\n",
        "print(f\"Area of the rectangle: {rectangle.area()}\")\n"
      ],
      "metadata": {
        "colab": {
          "base_uri": "https://localhost:8080/"
        },
        "id": "ozAAZl3066ed",
        "outputId": "59e598b8-41ec-47ed-e68a-93bf599e65a2"
      },
      "execution_count": null,
      "outputs": [
        {
          "output_type": "stream",
          "name": "stdout",
          "text": [
            "Area of the circle: 153.86\n",
            "Area of the rectangle: 50\n"
          ]
        }
      ]
    },
    {
      "cell_type": "code",
      "source": [
        "#3.  Implement a multi-level inheritance scenario where a class Vehicle has an attribute type. Derive a class Car and further derive a class ElectricCar that adds a battery attribute.\n",
        "\n",
        "# Base class\n",
        "class Vehicle:\n",
        "    def __init__(self, vehicle_type):\n",
        "        self.vehicle_type = vehicle_type\n",
        "\n",
        "# First level derived class\n",
        "class Car(Vehicle):\n",
        "    def __init__(self, vehicle_type, brand):\n",
        "        super().__init__(vehicle_type)\n",
        "        self.brand = brand\n",
        "\n",
        "# Second level derived class\n",
        "class ElectricCar(Car):\n",
        "    def __init__(self, vehicle_type, brand, battery):\n",
        "        super().__init__(vehicle_type, brand)\n",
        "        self.battery = battery\n",
        "\n",
        "    def display_info(self):\n",
        "        print(f\"Type: {self.vehicle_type}, Brand: {self.brand}, Battery: {self.battery}\")\n",
        "\n",
        "# Example usage\n",
        "tesla = ElectricCar(\"Electric\", \"Tesla\", \"85 kWh\")\n",
        "tesla.display_info()\n"
      ],
      "metadata": {
        "colab": {
          "base_uri": "https://localhost:8080/"
        },
        "id": "gyd8wM6i7sUx",
        "outputId": "197f957d-afa8-45e3-8179-253eef65b917"
      },
      "execution_count": null,
      "outputs": [
        {
          "output_type": "stream",
          "name": "stdout",
          "text": [
            "Type: Electric, Brand: Tesla, Battery: 85 kWh\n"
          ]
        }
      ]
    },
    {
      "cell_type": "markdown",
      "source": [
        "**ques 3 & 4 are same**"
      ],
      "metadata": {
        "id": "ub8dRpjlCbur"
      }
    },
    {
      "cell_type": "code",
      "source": [
        "#5.Write a program to demonstrate encapsulation by creating a class BankAccount with private attributes balance and methods to deposit, withdraw, and check balance.\n",
        "class BankAccount:\n",
        "    def __init__(self, initial_balance=0):\n",
        "        self.__balance = initial_balance  # private attribute\n",
        "\n",
        "    def deposit(self, amount):\n",
        "        if amount > 0:\n",
        "            self.__balance += amount\n",
        "            print(f\"Deposited: ₹{amount}\")\n",
        "        else:\n",
        "            print(\"Deposit amount must be positive.\")\n",
        "\n",
        "    def withdraw(self, amount):\n",
        "        if amount <= self.__balance:\n",
        "            self.__balance -= amount\n",
        "            print(f\"Withdrawn: ₹{amount}\")\n",
        "        else:\n",
        "            print(\"Insufficient balance.\")\n",
        "\n",
        "    def get_balance(self):\n",
        "        return self.__balance\n",
        "\n",
        "# Example usage\n",
        "account = BankAccount(1000)\n",
        "account.deposit(500)\n",
        "account.withdraw(200)\n",
        "print(\"Current balance:\", account.get_balance())\n"
      ],
      "metadata": {
        "colab": {
          "base_uri": "https://localhost:8080/"
        },
        "id": "1SpNFzG773b9",
        "outputId": "0dda8028-647a-48b8-b40f-f731c77b73fa"
      },
      "execution_count": null,
      "outputs": [
        {
          "output_type": "stream",
          "name": "stdout",
          "text": [
            "Deposited: ₹500\n",
            "Withdrawn: ₹200\n",
            "Current balance: 1300\n"
          ]
        }
      ]
    },
    {
      "cell_type": "code",
      "source": [
        "#6.  Demonstrate runtime polymorphism using a method play() in a base class Instrument. Derive classes Guitar and Piano that implement their own version of play().\n",
        "# Base class\n",
        "class Instrument:\n",
        "    def play(self):\n",
        "        print(\"Playing some instrument...\")\n",
        "\n",
        "# Derived class 1\n",
        "class Guitar(Instrument):\n",
        "    def play(self):\n",
        "        print(\"Strumming the guitar 🎸\")\n",
        "\n",
        "# Derived class 2\n",
        "class Piano(Instrument):\n",
        "    def play(self):\n",
        "        print(\"Playing the piano 🎹\")\n",
        "\n",
        "# Polymorphism in action\n",
        "instruments = [Guitar(), Piano()]\n",
        "\n",
        "for instrument in instruments:\n",
        "    instrument.play()\n"
      ],
      "metadata": {
        "colab": {
          "base_uri": "https://localhost:8080/"
        },
        "id": "L2ilNEzI8Rlh",
        "outputId": "cef07a03-cedf-4784-dd4c-006560c88498"
      },
      "execution_count": null,
      "outputs": [
        {
          "output_type": "stream",
          "name": "stdout",
          "text": [
            "Strumming the guitar 🎸\n",
            "Playing the piano 🎹\n"
          ]
        }
      ]
    },
    {
      "cell_type": "code",
      "source": [
        "#7. Create a class MathOperations with a class method add_numbers() to add two numbers and a static method subtract_numbers() to subtract two numbers.\n",
        "class MathOperations:\n",
        "    @classmethod\n",
        "    def add_numbers(cls, a, b):\n",
        "        return a + b\n",
        "\n",
        "    @staticmethod\n",
        "    def subtract_numbers(a, b):\n",
        "        return a - b\n",
        "\n",
        "# Example usage\n",
        "print(\"Sum:\", MathOperations.add_numbers(10, 5))\n",
        "print(\"Difference:\", MathOperations.subtract_numbers(10, 5))\n"
      ],
      "metadata": {
        "colab": {
          "base_uri": "https://localhost:8080/"
        },
        "id": "d07DeSR-9zIh",
        "outputId": "f5f8065e-b1d2-40aa-fa59-11c770798646"
      },
      "execution_count": null,
      "outputs": [
        {
          "output_type": "stream",
          "name": "stdout",
          "text": [
            "Sum: 15\n",
            "Difference: 5\n"
          ]
        }
      ]
    },
    {
      "cell_type": "code",
      "source": [
        "#8. Implement a class Person with a class method to count the total number of persons created.\n",
        "class Person:\n",
        "    count = 0  # class variable\n",
        "\n",
        "    def __init__(self, name):\n",
        "        self.name = name\n",
        "        Person.count += 1\n",
        "\n",
        "    @classmethod\n",
        "    def get_person_count(cls):\n",
        "        return cls.count\n",
        "\n",
        "# Creating person objects\n",
        "p1 = Person(\"Alice\")\n",
        "p2 = Person(\"Bob\")\n",
        "p3 = Person(\"Charlie\")\n",
        "\n",
        "print(\"Total persons created:\", Person.get_person_count())\n"
      ],
      "metadata": {
        "colab": {
          "base_uri": "https://localhost:8080/"
        },
        "id": "f29xICRK9-Wq",
        "outputId": "ebad4e5e-2f8b-4281-92ec-ea1a77f3cbc8"
      },
      "execution_count": null,
      "outputs": [
        {
          "output_type": "stream",
          "name": "stdout",
          "text": [
            "Total persons created: 3\n"
          ]
        }
      ]
    },
    {
      "cell_type": "code",
      "source": [
        "#9. Write a class Fraction with attributes numerator and denominator. Override the __str__ method to display the fraction as \"numerator/denominator\".\n",
        "class Fraction:\n",
        "    def __init__(self, numerator, denominator):\n",
        "        self.numerator = numerator\n",
        "        self.denominator = denominator\n",
        "\n",
        "    def __str__(self):\n",
        "        return f\"{self.numerator}/{self.denominator}\"\n",
        "\n",
        "# Example usage\n",
        "f = Fraction(3, 4)\n",
        "print(\"Fraction:\", f)\n"
      ],
      "metadata": {
        "colab": {
          "base_uri": "https://localhost:8080/"
        },
        "id": "afLEs9Va-N-t",
        "outputId": "68ceee90-79fa-4311-9746-efabeffe3611"
      },
      "execution_count": null,
      "outputs": [
        {
          "output_type": "stream",
          "name": "stdout",
          "text": [
            "Fraction: 3/4\n"
          ]
        }
      ]
    },
    {
      "cell_type": "code",
      "source": [
        "#10. Demonstrate operator overloading by creating a class Vector and overriding the __add__ method to add two vectors.\n",
        "\n",
        "class Vector:\n",
        "    def __init__(self, x, y):\n",
        "        self.x = x\n",
        "        self.y = y\n",
        "\n",
        "    def __add__(self, other):\n",
        "        return Vector(self.x + other.x, self.y + other.y)\n",
        "\n",
        "    def __str__(self):\n",
        "        return f\"({self.x}, {self.y})\"\n",
        "\n",
        "# Example usage\n",
        "v1 = Vector(2, 3)\n",
        "v2 = Vector(4, 1)\n",
        "v3 = v1 + v2\n",
        "\n",
        "print(\"v1 + v2 =\", v3)\n"
      ],
      "metadata": {
        "colab": {
          "base_uri": "https://localhost:8080/"
        },
        "id": "qS2AqaAN-ccc",
        "outputId": "ad8c4cda-35e0-449d-9f05-f04191eea6f8"
      },
      "execution_count": null,
      "outputs": [
        {
          "output_type": "stream",
          "name": "stdout",
          "text": [
            "v1 + v2 = (6, 4)\n"
          ]
        }
      ]
    },
    {
      "cell_type": "code",
      "source": [
        "#11. Create a class Person with attributes name and age. Add a method greet() that prints \"Hello, my name is {name} and I am {age} years old.\"\n",
        "\n",
        "class Person:\n",
        "    def __init__(self, name, age):\n",
        "        self.name = name\n",
        "        self.age = age\n",
        "\n",
        "    def greet(self):\n",
        "        print(f\"Hello, my name is {self.name} and I am {self.age} years old.\")\n",
        "\n",
        "# Example usage\n",
        "person1 = Person(\"Jeet\", 19)\n",
        "person1.greet()\n"
      ],
      "metadata": {
        "colab": {
          "base_uri": "https://localhost:8080/"
        },
        "id": "ub8PIQt--lP0",
        "outputId": "ae87ffca-0fae-4095-94f4-d6a570ec44c3"
      },
      "execution_count": null,
      "outputs": [
        {
          "output_type": "stream",
          "name": "stdout",
          "text": [
            "Hello, my name is Jeet and I am 19 years old.\n"
          ]
        }
      ]
    },
    {
      "cell_type": "code",
      "source": [
        "#12. Implement a class Student with attributes name and grades. Create a method average_grade() to compute the average of the grades.\n",
        "class Student:\n",
        "    def __init__(self, name, grades):\n",
        "        self.name = name\n",
        "        self.grades = grades  # list of numbers\n",
        "\n",
        "    def average_grade(self):\n",
        "        if not self.grades:\n",
        "            return 0\n",
        "        return sum(self.grades) / len(self.grades)\n",
        "\n",
        "# Example usage\n",
        "student1 = Student(\"Riya\", [85, 90, 78, 92])\n",
        "print(f\"{student1.name}'s average grade is:\", student1.average_grade())\n"
      ],
      "metadata": {
        "id": "R6qlQaaK-1qE",
        "colab": {
          "base_uri": "https://localhost:8080/"
        },
        "outputId": "21815efe-4fb3-4b61-9e1e-c890dfe71dbf"
      },
      "execution_count": 17,
      "outputs": [
        {
          "output_type": "stream",
          "name": "stdout",
          "text": [
            "Riya's average grade is: 86.25\n"
          ]
        }
      ]
    },
    {
      "cell_type": "code",
      "source": [
        "#13. Create a class Rectangle with methods set_dimensions() to set the dimensions and area() to calculate the area.\n",
        "\n",
        "class Rectangle:\n",
        "    def __init__(self):\n",
        "        self.length = 0\n",
        "        self.width = 0\n",
        "\n",
        "    def set_dimensions(self, length, width):\n",
        "        self.length = length\n",
        "        self.width = width\n",
        "\n",
        "    def area(self):\n",
        "        return self.length * self.width\n",
        "\n",
        "# Example usage\n",
        "rect = Rectangle()\n",
        "rect.set_dimensions(5, 8)\n",
        "print(\"Area of rectangle:\", rect.area())\n"
      ],
      "metadata": {
        "colab": {
          "base_uri": "https://localhost:8080/"
        },
        "id": "ihsxyw1DC5MP",
        "outputId": "4e094fb2-c299-4002-da42-bf9976cd49c4"
      },
      "execution_count": 18,
      "outputs": [
        {
          "output_type": "stream",
          "name": "stdout",
          "text": [
            "Area of rectangle: 40\n"
          ]
        }
      ]
    },
    {
      "cell_type": "code",
      "source": [
        "#14.Create a class Employee with a method calculate_salary() that computes the salary based on hours worked and  ourly rate. Create a derived class Manager that adds a bonus to the salary.\n",
        "class Employee:\n",
        "    def __init__(self, name, hours_worked, hourly_rate):\n",
        "        self.name = name\n",
        "        self.hours_worked = hours_worked\n",
        "        self.hourly_rate = hourly_rate\n",
        "\n",
        "    def calculate_salary(self):\n",
        "        return self.hours_worked * self.hourly_rate\n",
        "\n",
        "class Manager(Employee):\n",
        "    def __init__(self, name, hours_worked, hourly_rate, bonus):\n",
        "        super().__init__(name, hours_worked, hourly_rate)\n",
        "        self.bonus = bonus\n",
        "\n",
        "    def calculate_salary(self):\n",
        "        base_salary = super().calculate_salary()\n",
        "        return base_salary + self.bonus\n",
        "\n",
        "# Example usage\n",
        "emp = Employee(\"Amit\", 40, 200)\n",
        "mgr = Manager(\"Sonal\", 40, 200, 5000)\n",
        "\n",
        "print(f\"{emp.name}'s salary: ₹{emp.calculate_salary()}\")\n",
        "print(f\"{mgr.name}'s salary with bonus: ₹{mgr.calculate_salary()}\")\n"
      ],
      "metadata": {
        "colab": {
          "base_uri": "https://localhost:8080/"
        },
        "id": "5AtBEMVZDAZc",
        "outputId": "b801a681-88d1-48b5-b943-73f418ccf7f3"
      },
      "execution_count": 19,
      "outputs": [
        {
          "output_type": "stream",
          "name": "stdout",
          "text": [
            "Amit's salary: ₹8000\n",
            "Sonal's salary with bonus: ₹13000\n"
          ]
        }
      ]
    },
    {
      "cell_type": "code",
      "source": [
        "#15. Create a class Product with attributes name, price, and quantity. Implement a method total_price() that calculates the total price of the product.\n",
        "\n",
        "class Product:\n",
        "    def __init__(self, name, price, quantity):\n",
        "        self.name = name\n",
        "        self.price = price\n",
        "        self.quantity = quantity\n",
        "\n",
        "    def total_price(self):\n",
        "        return self.price * self.quantity\n",
        "\n",
        "# Example usage\n",
        "p = Product(\"Perfume\", 499, 3)\n",
        "print(f\"Total price for {p.quantity} units of {p.name}: ₹{p.total_price()}\")\n"
      ],
      "metadata": {
        "colab": {
          "base_uri": "https://localhost:8080/"
        },
        "id": "HrLn43dNDZ9H",
        "outputId": "5d1c4e63-05bf-4075-fbbc-5e9d7a1683c1"
      },
      "execution_count": 20,
      "outputs": [
        {
          "output_type": "stream",
          "name": "stdout",
          "text": [
            "Total price for 3 units of Perfume: ₹1497\n"
          ]
        }
      ]
    },
    {
      "cell_type": "code",
      "source": [
        "#16. Create a class Animal with an abstract method sound(). Create two derived classes Cow and Sheep that implement the sound() method.\n",
        "\n",
        "from abc import ABC, abstractmethod\n",
        "\n",
        "# Abstract class\n",
        "class Animal(ABC):\n",
        "    @abstractmethod\n",
        "    def sound(self):\n",
        "        pass\n",
        "\n",
        "# Derived class 1\n",
        "class Cow(Animal):\n",
        "    def sound(self):\n",
        "        print(\"Cow says Moo 🐄\")\n",
        "\n",
        "# Derived class 2\n",
        "class Sheep(Animal):\n",
        "    def sound(self):\n",
        "        print(\"Sheep says Baa 🐑\")\n",
        "\n",
        "# Example usage\n",
        "animals = [Cow(), Sheep()]\n",
        "\n",
        "for animal in animals:\n",
        "    animal.sound()\n"
      ],
      "metadata": {
        "colab": {
          "base_uri": "https://localhost:8080/"
        },
        "id": "G6dEMZ_-DfwS",
        "outputId": "204e54fb-de28-4c94-9905-f9839da7fb6a"
      },
      "execution_count": 21,
      "outputs": [
        {
          "output_type": "stream",
          "name": "stdout",
          "text": [
            "Cow says Moo 🐄\n",
            "Sheep says Baa 🐑\n"
          ]
        }
      ]
    },
    {
      "cell_type": "code",
      "source": [
        "#17. Create a class Book with attributes title, author, and year_published. Add a method get_book_info() that returns a formatted string with the book's details.\n",
        "class Book:\n",
        "    def __init__(self, title, author, year_published):\n",
        "        self.title = title\n",
        "        self.author = author\n",
        "        self.year_published = year_published\n",
        "\n",
        "    def get_book_info(self):\n",
        "        return f\"\\\"{self.title}\\\" by {self.author} ({self.year_published})\"\n",
        "\n",
        "# Example usage\n",
        "book = Book(\"Ikagi\", \"Héctor García\", 2017)\n",
        "print(book.get_book_info())\n",
        "\n"
      ],
      "metadata": {
        "colab": {
          "base_uri": "https://localhost:8080/"
        },
        "id": "ALTHxp5BDnzV",
        "outputId": "b91d08d9-2198-4122-8428-8d2f89d5d3f4"
      },
      "execution_count": 23,
      "outputs": [
        {
          "output_type": "stream",
          "name": "stdout",
          "text": [
            "\"Ikagi\" by Héctor García (2017)\n"
          ]
        }
      ]
    },
    {
      "cell_type": "code",
      "source": [
        "#18. Create a class House with attributes address and price. Create a derived class Mansion that adds an attribute number_of_rooms.\n",
        "# Base class\n",
        "class House:\n",
        "    def __init__(self, address, price):\n",
        "        self.address = address\n",
        "        self.price = price\n",
        "\n",
        "# Derived class\n",
        "class Mansion(House):\n",
        "    def __init__(self, address, price, number_of_rooms):\n",
        "        super().__init__(address, price)\n",
        "        self.number_of_rooms = number_of_rooms\n",
        "\n",
        "    def display_info(self):\n",
        "        print(f\"Address: {self.address}\")\n",
        "        print(f\"Price: ₹{self.price}\")\n",
        "        print(f\"Number of rooms: {self.number_of_rooms}\")\n",
        "\n",
        "# Example usage\n",
        "m = Mansion(\"Beverly Hills, LA\", 100000000, 12)\n",
        "m.display_info()\n",
        "\n"
      ],
      "metadata": {
        "colab": {
          "base_uri": "https://localhost:8080/"
        },
        "id": "5tWuqqpPDw2b",
        "outputId": "7de21884-2643-4b73-9acf-a72dae6a8729"
      },
      "execution_count": 24,
      "outputs": [
        {
          "output_type": "stream",
          "name": "stdout",
          "text": [
            "Address: Beverly Hills, LA\n",
            "Price: ₹100000000\n",
            "Number of rooms: 12\n"
          ]
        }
      ]
    }
  ]
}